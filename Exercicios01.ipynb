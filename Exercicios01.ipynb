{
 "cells": [
  {
   "cell_type": "markdown",
   "metadata": {},
   "source": [
    "00- Faça um programa que leia algo pelo teclado e mostre na tela o seu tipo primitivo."
   ]
  },
  {
   "cell_type": "code",
   "execution_count": 1,
   "metadata": {},
   "outputs": [
    {
     "name": "stdout",
     "output_type": "stream",
     "text": [
      "<class 'type'> oi\n"
     ]
    }
   ],
   "source": [
    "print (type, 'oi')"
   ]
  },
  {
   "cell_type": "markdown",
   "metadata": {},
   "source": [
    "01 - Crie um programa que leia dois números e mostre a soma entre eles."
   ]
  },
  {
   "cell_type": "code",
   "execution_count": 10,
   "metadata": {},
   "outputs": [
    {
     "name": "stdout",
     "output_type": "stream",
     "text": [
      "o resultado é: 55\n"
     ]
    }
   ],
   "source": [
    "numero1 = (input ( 'digite o primeiro mumero: '))\n",
    "numero2 = (input ('digite o segundo numero:'))\n",
    "soma = numero1 + numero2\n",
    "#exibir resultado\n",
    "print ( f'o resultado é: {soma}')\n"
   ]
  },
  {
   "cell_type": "markdown",
   "metadata": {},
   "source": [
    "02 - Crie um programa que leia um número inteiro e mostre na tela o seu sucessor e antecessor."
   ]
  },
  {
   "cell_type": "code",
   "execution_count": 11,
   "metadata": {},
   "outputs": [
    {
     "name": "stdout",
     "output_type": "stream",
     "text": [
      " o antecessor de 5 é 4\n",
      " o sucessor de 5 é 6\n"
     ]
    }
   ],
   "source": [
    "numero=  int (input ('digite um numero inteiro:'))\n",
    "antecessor= numero - 1 \n",
    "sucessor= numero + 1\n",
    "print (f' o antecessor de {numero} é {antecessor}') \n",
    "print (f' o sucessor de {numero} é {sucessor}')"
   ]
  },
  {
   "cell_type": "markdown",
   "metadata": {},
   "source": [
    "03 - Crie um programa que leia um número e mostre o seu dobro, triplo e raiz quadrada."
   ]
  },
  {
   "cell_type": "code",
   "execution_count": 12,
   "metadata": {},
   "outputs": [
    {
     "name": "stdout",
     "output_type": "stream",
     "text": [
      " seu numero é 5.0, dobro é 10.0, o triplo 15.0 e a raiz 2.23606797749979\n"
     ]
    }
   ],
   "source": [
    "numero= float (input ('digite um numero:'))\n",
    "dobro= numero * 2\n",
    "triplo= numero * 3\n",
    "raiz= numero ** 0.5\n",
    "print (f' seu numero é {numero}, dobro é {dobro}, o triplo {triplo} e a raiz {raiz}')"
   ]
  },
  {
   "cell_type": "markdown",
   "metadata": {},
   "source": [
    "04 - Crie um programa que leia duas notas de um aluno, calcule e mostre sua média."
   ]
  },
  {
   "cell_type": "code",
   "execution_count": 14,
   "metadata": {},
   "outputs": [
    {
     "name": "stdout",
     "output_type": "stream",
     "text": [
      "9.0\n"
     ]
    }
   ],
   "source": [
    "nota1 = float (input (' digite a primeira nota'))\n",
    "nota2 = float(input ('digite a primeira nota'))\n",
    "media= (nota1 + nota2) / 2 \n",
    "print (media)"
   ]
  },
  {
   "cell_type": "markdown",
   "metadata": {},
   "source": [
    "05 - Crie um programa que leia o valor em metros e o exiba convertido em centímetros e milímetros."
   ]
  },
  {
   "cell_type": "code",
   "execution_count": 15,
   "metadata": {},
   "outputs": [
    {
     "name": "stdout",
     "output_type": "stream",
     "text": [
      "8.0 m é igual a 0.08 cm e 0.008mm\n"
     ]
    }
   ],
   "source": [
    "metros= float (input ('digite uma medida em metros'))\n",
    "cm= metros/100\n",
    "mm= metros/ 1000\n",
    "print(f'{metros} m é igual a {cm} cm e {mm}mm')"
   ]
  },
  {
   "cell_type": "markdown",
   "metadata": {},
   "source": [
    "06 - Crie um programa que leia um numero qualquer e mostre na tela a sua tabuada."
   ]
  },
  {
   "cell_type": "code",
   "execution_count": 21,
   "metadata": {},
   "outputs": [
    {
     "name": "stdout",
     "output_type": "stream",
     "text": [
      "8.0 x 1 = 8.0\n",
      "8.0 x 2 = 16.0\n",
      "8.0 x 3 = 24.0\n",
      "8.0 x 4 = 32.0\n",
      "8.0 x 5 = 40.0\n",
      "8.0 x 6 = 48.0\n",
      "8.0 x 7 = 56.0\n",
      "8.0 x 8 = 64.0\n",
      "8.0 x 9 = 72.0\n",
      "8.0 x 10 = 80.0\n"
     ]
    }
   ],
   "source": [
    "numero =float (input('digite um numero')) \n",
    "print (f'{numero} x 1 = {numero *1}') \n",
    "print (f'{numero} x 2 = {numero *2}') \n",
    "print (f'{numero} x 3 = {numero *3}') \n",
    "print (f'{numero} x 4 = {numero *4}') \n",
    "print (f'{numero} x 5 = {numero *5}') \n",
    "print (f'{numero} x 6 = {numero *6}') \n",
    "print (f'{numero} x 7 = {numero *7}') \n",
    "print (f'{numero} x 8 = {numero *8}') \n",
    "print (f'{numero} x 9 = {numero *9}') \n",
    "print (f'{numero} x 10 = {numero *10}') "
   ]
  },
  {
   "cell_type": "markdown",
   "metadata": {},
   "source": [
    "07 - Crie um programa que leia quanto dinheiro a pessoa tem na carteira e mostre quantos dólares ela pode contar."
   ]
  },
  {
   "cell_type": "code",
   "execution_count": 23,
   "metadata": {},
   "outputs": [
    {
     "name": "stdout",
     "output_type": "stream",
     "text": [
      " voce tem $12.0 na carteira\n"
     ]
    }
   ],
   "source": [
    "real = float (input ('quanto dinheiro voce tem na carteira '))\n",
    "dolar = real / 5 \n",
    "print (f' voce tem ${dolar} na carteira')"
   ]
  },
  {
   "cell_type": "markdown",
   "metadata": {},
   "source": [
    "08 - Crie um programa que leia a largura e a altura de uma parede em metros, calcule a sua área e a quantidade de tinta necessária para pintá-lo, sabendo que cada litro de tinta pinta uma área de 2m2."
   ]
  },
  {
   "cell_type": "code",
   "execution_count": 24,
   "metadata": {},
   "outputs": [
    {
     "name": "stdout",
     "output_type": "stream",
     "text": [
      "para pintar uma area de 40.0 m², preciso de 20.01\n"
     ]
    }
   ],
   "source": [
    "altura = float (input ('digite a largura '))\n",
    "largura = float (input (' digite a largura'))\n",
    "area = altura * largura\n",
    "litros= area/ 2 \n",
    "print (f'para pintar uma area de {area} m², preciso de {litros}1' )"
   ]
  },
  {
   "cell_type": "markdown",
   "metadata": {},
   "source": [
    "09 - Faça um algoritmo que leia o preço do produto e mostra seu novo preço com 5% de desconto "
   ]
  },
  {
   "cell_type": "code",
   "execution_count": 28,
   "metadata": {},
   "outputs": [
    {
     "name": "stdout",
     "output_type": "stream",
     "text": [
      "79.95\n"
     ]
    }
   ],
   "source": [
    "valor = float (input ('digite o valor:'))\n",
    "desconto = 5 / 100\n",
    "valor = valor - desconto \n",
    "print (valor)"
   ]
  },
  {
   "cell_type": "markdown",
   "metadata": {},
   "source": [
    "10- faço um algoritmo que leia o salario do funcionario e mostre seu novo salario com 15% de aumento"
   ]
  },
  {
   "cell_type": "code",
   "execution_count": 29,
   "metadata": {},
   "outputs": [
    {
     "name": "stdout",
     "output_type": "stream",
     "text": [
      "6.9\n"
     ]
    }
   ],
   "source": [
    "salario = float(input ('digite o salario'))\n",
    "aumento = (salario / 100) * 15 \n",
    "salario = salario + aumento \n",
    "print (salario) "
   ]
  },
  {
   "cell_type": "markdown",
   "metadata": {},
   "source": [
    "11- Faça um algoritmo que recebe um valor em graus celsius e coverta para farenheit"
   ]
  },
  {
   "cell_type": "code",
   "execution_count": 30,
   "metadata": {},
   "outputs": [
    {
     "name": "stdout",
     "output_type": "stream",
     "text": [
      " 32.0 ºC é igual a 89.6 ºF\n"
     ]
    }
   ],
   "source": [
    "graus = float (input ('digite a temperatura em ºC'))\n",
    "valor = graus * 1.8 + 32 \n",
    "print (f' {graus} ºC é igual a {valor} ºF')\n"
   ]
  },
  {
   "cell_type": "markdown",
   "metadata": {},
   "source": [
    "12- Faça um algoritmo que pergunte a quantidade de km percorridos por um carro alugado e a quantidade de dias pelos quais ele foi alugado. Calcule o preço a pagar, sabendo o preço a pagar, sabendo que o carro custa R$60 por dia e R$0.15 por km rodado "
   ]
  },
  {
   "cell_type": "code",
   "execution_count": 31,
   "metadata": {},
   "outputs": [
    {
     "name": "stdout",
     "output_type": "stream",
     "text": [
      " o valor total sera R$  302.25\n"
     ]
    }
   ],
   "source": [
    "km = float (input ('digite o km percorrido'))\n",
    "dias= int (input ('digite a quantidade de dias ') )\n",
    "pagar= (60 * dias)+ (0.15 * km)\n",
    "print (f' o valor total sera R$ {pagar: .2f}')"
   ]
  }
 ],
 "metadata": {
  "kernelspec": {
   "display_name": "Python 3",
   "language": "python",
   "name": "python3"
  },
  "language_info": {
   "codemirror_mode": {
    "name": "ipython",
    "version": 3
   },
   "file_extension": ".py",
   "mimetype": "text/x-python",
   "name": "python",
   "nbconvert_exporter": "python",
   "pygments_lexer": "ipython3",
   "version": "3.12.2"
  }
 },
 "nbformat": 4,
 "nbformat_minor": 2
}
