{
 "cells": [
  {
   "cell_type": "markdown",
   "metadata": {},
   "source": [
    "1- Utilizando o comando while, exiba todos os números pares, de 1 a 20."
   ]
  },
  {
   "cell_type": "code",
   "execution_count": 1,
   "metadata": {},
   "outputs": [
    {
     "name": "stdout",
     "output_type": "stream",
     "text": [
      "o numero 2 é par\n",
      "o numero 4 é par\n",
      "o numero 6 é par\n",
      "o numero 8 é par\n",
      "o numero 10 é par\n",
      "o numero 12 é par\n",
      "o numero 14 é par\n",
      "o numero 16 é par\n",
      "o numero 18 é par\n",
      "o numero 20 é par\n"
     ]
    }
   ],
   "source": [
    "x = 1 \n",
    "while x <= 20 :\n",
    "    if x % 2 == 0 :\n",
    "        print (f'o numero {x} é par')\n",
    "    x = x + 1 "
   ]
  },
  {
   "cell_type": "markdown",
   "metadata": {},
   "source": [
    "2 - Gere os 6 números do sorteio da mega-sena de forma aleatória."
   ]
  },
  {
   "cell_type": "code",
   "execution_count": 18,
   "metadata": {},
   "outputs": [
    {
     "name": "stdout",
     "output_type": "stream",
     "text": [
      "o numero sorteado é 19\n",
      "o numero sorteado é 8\n",
      "o numero sorteado é 17\n",
      "o numero sorteado é 12\n",
      "o numero sorteado é 11\n",
      "o numero sorteado é 4\n"
     ]
    }
   ],
   "source": [
    "import random \n",
    "x = 1\n",
    "while x <= 6:\n",
    "    nrSorteado = random.randint(1, 60)\n",
    "    print (f'o numero sorteado é {nrSorteado}')\n",
    "    x = x + 1 \n",
    "     \n"
   ]
  },
  {
   "cell_type": "markdown",
   "metadata": {},
   "source": [
    "3 - Receba alguns número e verifique a soma e a quantidade de todos os pares e ímpares\n",
    "digitados, digite 0 para não receber mais"
   ]
  },
  {
   "cell_type": "code",
   "execution_count": 21,
   "metadata": {},
   "outputs": [
    {
     "name": "stdout",
     "output_type": "stream",
     "text": [
      " a soma é 5 são 0 pares e 1 impares\n",
      " a soma é 60 são 0 pares e 2 impares\n",
      " a soma é 66 são 1 pares e 2 impares\n",
      " a soma é 75 são 1 pares e 3 impares\n"
     ]
    }
   ],
   "source": [
    "soma = 0 \n",
    "qtdePar = 0\n",
    "qtdeImpar = 0 \n",
    "while True :\n",
    "    nr = int (input ('digite um numero [ 0 para encerrar]'))\n",
    "    if nr == 0 :\n",
    "        break \n",
    "    if nr % 2 == 0 :\n",
    "        qtdePar += 1 \n",
    "    if nr % 2 == 1 : \n",
    "       qtdeImpar += 1 \n",
    "    soma += nr \n",
    "\n",
    "    print (f' a soma é {soma} são {qtdePar} pares e {qtdeImpar} impares') \n"
   ]
  }
 ],
 "metadata": {
  "kernelspec": {
   "display_name": "Python 3",
   "language": "python",
   "name": "python3"
  },
  "language_info": {
   "codemirror_mode": {
    "name": "ipython",
    "version": 3
   },
   "file_extension": ".py",
   "mimetype": "text/x-python",
   "name": "python",
   "nbconvert_exporter": "python",
   "pygments_lexer": "ipython3",
   "version": "3.12.2"
  }
 },
 "nbformat": 4,
 "nbformat_minor": 2
}
