{
 "cells": [
  {
   "cell_type": "markdown",
   "metadata": {},
   "source": [
    "1 - Crie uma lista com os números de 1 a 10 e imprima cada número."
   ]
  },
  {
   "cell_type": "code",
   "execution_count": 52,
   "metadata": {},
   "outputs": [
    {
     "name": "stdout",
     "output_type": "stream",
     "text": [
      "1\n",
      "2\n",
      "3\n",
      "4\n",
      "5\n",
      "6\n",
      "7\n",
      "8\n",
      "9\n",
      "10\n"
     ]
    }
   ],
   "source": [
    "listaNr = [1,2,3,4,5,6,7,8,9,10]\n",
    "for numeros in listaNr :\n",
    "    print (numeros)"
   ]
  },
  {
   "cell_type": "markdown",
   "metadata": {},
   "source": [
    "2 - Crie uma lista com os nomes de três amigos e imprima cada nome."
   ]
  },
  {
   "cell_type": "code",
   "execution_count": 5,
   "metadata": {},
   "outputs": [
    {
     "name": "stdout",
     "output_type": "stream",
     "text": [
      "Rodrigo\n",
      "Hicaro\n",
      "Zilda\n"
     ]
    }
   ],
   "source": [
    "listaNomes = ['Rodrigo', 'Hicaro', 'Zilda' ]\n",
    "for Nome in listaNomes :\n",
    "    print (Nome)"
   ]
  },
  {
   "cell_type": "markdown",
   "metadata": {},
   "source": [
    "3 - Crie uma lista com os meses do ano e imprima apenas os meses que começam com \"J\"."
   ]
  },
  {
   "cell_type": "code",
   "execution_count": 7,
   "metadata": {},
   "outputs": [
    {
     "name": "stdout",
     "output_type": "stream",
     "text": [
      "janeiro\n",
      "junho\n",
      "julho\n"
     ]
    }
   ],
   "source": [
    "listaMeses = ['janeiro', 'Fvereiro', 'Março', 'Abril', 'Maio', 'junho', 'julho', 'Agosto', 'Setembro' 'Outubro', 'Novembro', 'Dezembro']\n",
    "for mes in listaMeses :\n",
    "    if mes [0] == \"j\" :\n",
    "     print (mes)"
   ]
  },
  {
   "cell_type": "markdown",
   "metadata": {},
   "source": [
    "4 - Crie uma lista com as palavras \"gato\", \"cachorro\",  \"pássaro\" e \"peixe\",e imprima cada palavra\n",
    "em maiúsculas."
   ]
  },
  {
   "cell_type": "code",
   "execution_count": 11,
   "metadata": {},
   "outputs": [
    {
     "name": "stdout",
     "output_type": "stream",
     "text": [
      "GATO\n",
      "CACHORRO\n",
      "PÁSSARO\n",
      "PEIXE\n"
     ]
    }
   ],
   "source": [
    "listaAnimais = ['gato', 'cachorro', 'pássaro', 'peixe']\n",
    "for animais in listaAnimais :\n",
    "    print (animais.upper())"
   ]
  },
  {
   "cell_type": "markdown",
   "metadata": {},
   "source": [
    "5 - Crie uma lista com 5 números aleatórios e exiba o nr e seu dobro desse."
   ]
  },
  {
   "cell_type": "code",
   "execution_count": 41,
   "metadata": {},
   "outputs": [
    {
     "name": "stdout",
     "output_type": "stream",
     "text": [
      "o numero é 9 e seu dobro é 18\n",
      "o numero é 50 e seu dobro é 100\n",
      "o numero é 21 e seu dobro é 42\n",
      "o numero é 94 e seu dobro é 188\n",
      "o numero é 97 e seu dobro é 194\n",
      "o numero é 95 e seu dobro é 190\n"
     ]
    }
   ],
   "source": [
    "import random\n",
    "for x in range (6) :\n",
    "    nrSorteado = random.randint(1, 100)\n",
    "    print (f'o numero é {nrSorteado} e seu dobro é {nrSorteado * 2}')\n"
   ]
  },
  {
   "cell_type": "markdown",
   "metadata": {},
   "source": [
    "6 - Crie uma lista com valores numéricos e encontre o maior e o menor elemento dessa lista."
   ]
  },
  {
   "cell_type": "code",
   "execution_count": 58,
   "metadata": {},
   "outputs": [
    {
     "name": "stdout",
     "output_type": "stream",
     "text": [
      "2 50\n"
     ]
    }
   ],
   "source": [
    "listaNrs = [10, 2, 25, 50, 4]\n",
    "menorNr = 1000000\n",
    "maiorNr = 0\n",
    "for nrAtual in listaNrs :\n",
    "    if nrAtual > maiorNr   :\n",
    "        maiorNr = nrAtual \n",
    "    if nrAtual < menorNr :\n",
    "        menorNr = nrAtual \n",
    "print (menorNr, maiorNr )"
   ]
  },
  {
   "cell_type": "markdown",
   "metadata": {},
   "source": [
    "7 - Receba uma palavra do usuário e calcule quantas vogais há nesta palavra."
   ]
  },
  {
   "cell_type": "code",
   "execution_count": 63,
   "metadata": {},
   "outputs": [
    {
     "name": "stdout",
     "output_type": "stream",
     "text": [
      " a palavra novaandradina tem 6 vogais\n"
     ]
    }
   ],
   "source": [
    "palavra = input ('digite uma palavra')\n",
    "vogais = ['a', 'e', 'i', 'o', 'u']\n",
    "qtdeVogais = 0\n",
    "for letra in palavra :\n",
    "    if letra.lower() in vogais:\n",
    "        qtdeVogais = qtdeVogais + 1\n",
    "\n",
    "print (f' a palavra {palavra} tem {qtdeVogais} vogais')\n",
    "\n"
   ]
  },
  {
   "cell_type": "markdown",
   "metadata": {},
   "source": [
    "8 - Nessa string ‘Gol;Corsa;Palio;Monza;Fusca;’, faça a separação desses itens para uma lista e\n",
    "exiba o item e a posição que ele está"
   ]
  },
  {
   "cell_type": "code",
   "execution_count": 51,
   "metadata": {},
   "outputs": [
    {
     "name": "stdout",
     "output_type": "stream",
     "text": [
      "1° Gol\n",
      "2° Corsa\n",
      "3° Palio\n",
      "4° Monza\n",
      "5° Fusca\n"
     ]
    }
   ],
   "source": [
    "listaCarros = ['Gol', 'Corsa', 'Palio', 'Monza', 'Fusca']\n",
    "for pos, carros in enumerate (listaCarros) :\n",
    "    print (f'{pos+1}° {carros}')"
   ]
  }
 ],
 "metadata": {
  "kernelspec": {
   "display_name": "Python 3",
   "language": "python",
   "name": "python3"
  },
  "language_info": {
   "codemirror_mode": {
    "name": "ipython",
    "version": 3
   },
   "file_extension": ".py",
   "mimetype": "text/x-python",
   "name": "python",
   "nbconvert_exporter": "python",
   "pygments_lexer": "ipython3",
   "version": "3.12.3"
  }
 },
 "nbformat": 4,
 "nbformat_minor": 2
}
