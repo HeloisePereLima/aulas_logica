{
 "cells": [
  {
   "cell_type": "markdown",
   "metadata": {},
   "source": [
    "aula 22/02/2024 - comando de entrada (input) / variáveis / pseudocódigo "
   ]
  },
  {
   "cell_type": "code",
   "execution_count": 16,
   "metadata": {},
   "outputs": [
    {
     "name": "stdout",
     "output_type": "stream",
     "text": [
      "curso\n",
      "desenvolvimento de sistemas\n",
      "curso desenvolvimento de sistemas\n",
      "olá Heloise voce tem 15 anos hoje esta fazendo 23.5 ºc\n",
      "Olá Heloise, voce tem  15 anos, hoje está fazendo 23.5 ºc\n",
      "heloise 15 50.0\n",
      "seu nome é heloise, voce tem 15 anos e pesa 50.0kg\n",
      "<class 'str'> <class 'int'> <class 'float'>\n"
     ]
    }
   ],
   "source": [
    "#declarando minha primeira variavel \n",
    "#lemos da seguinte forma:\n",
    "#variável curso recebe (=) a string \"desenvolvimento de sistemas\"\n",
    "#receba/armazene o texto \"desenvolvimento de sistemas\"\n",
    "curso = \"desenvolvimento de sistemas\" \n",
    "#exibir o valor armazenado \n",
    "print (\"curso\") #para imprimir uma variável não se coloca entre \"\"\n",
    "print (curso) #jeito correto de utilizar uma variável\n",
    "print (\"curso\" , curso)\n",
    "\n",
    "#criando e atribuindo uma variavel \n",
    "idade = 15\n",
    "temperatura = 23.5\n",
    "nome= \"Heloise\"\n",
    "#exibir o valor das 3 variáveis \n",
    "print (\"olá\" , nome , \"voce tem\" , idade , \"anos\" ,\"hoje esta fazendo\" ,temperatura , \"ºc\")\n",
    "print (f'Olá {nome}, voce tem  {idade} anos, hoje está fazendo {temperatura} ºc')\n",
    "\n",
    "#declarando variáveis lógicas, recebe apenas true ou false  \n",
    "chovendo = False\n",
    "dia = True\n",
    "\n",
    "#nesta linha abaixo ocorrerá um erro pois não existe uma variavel com o \n",
    "#nome salario, então não consegue encontrar nada para exibir\n",
    "#nameError: name 'salario' is not defined\n",
    "# print(\"salario\", salario)\n",
    "\n",
    "#declarando um constante, diferentemente da variavel que posso alterar o valor\n",
    "# na constante não é permitido, declaramos com o nome todo em maiuscula\n",
    "PI = 3.1415 \n",
    "\n",
    "\n",
    "#Passo 1: Receber o nome da pessoa\n",
    "nome = input ('qual é seu nome?')\n",
    "#Passo 2: Receber a idade da pessoa\n",
    "idade = int(input ('qual é a sua idade?'))\n",
    "#Passo 3: Receber o peso da pessoa \n",
    "#possoconverter essa string recebida do tipo float\n",
    "peso = float (input ('qual seu peso?'))\n",
    "#Passo 4: Exibir o nome da pessoa, idade e o peso \n",
    "print (nome, idade, peso)\n",
    "print (f'seu nome é {nome}, voce tem {idade} anos e pesa {peso}kg')\n",
    "\n",
    "#Exibindo os tipos das variaveis \n",
    "#Tudo o que recebemos do input é do tipo string\n",
    "print(type(nome),type(idade), type(peso))\n"
   ]
  },
  {
   "cell_type": "markdown",
   "metadata": {},
   "source": [
    "23/02/2024 - Operações com variáveis"
   ]
  },
  {
   "cell_type": "code",
   "execution_count": 8,
   "metadata": {},
   "outputs": [
    {
     "name": "stdout",
     "output_type": "stream",
     "text": [
      "20.0\n",
      "<class 'float'>\n"
     ]
    }
   ],
   "source": [
    "#receber o primeiro numero \n",
    "numero1 = float (input ('digite o primeiro numero: '))\n",
    "#receber o segundo numero \n",
    "numero2= float (input ('digite o segundo numero '))\n",
    "#receber o terceiro numero \n",
    "numero3= float (input ('digite o terceiro numero'))\n",
    "#somar o primeiro numero + o segundo numero \n",
    "soma = numero1 + numero2 + numero3\n",
    "#exibir o resultado \n",
    "print (type(soma))\n",
    "print (soma)\n"
   ]
  },
  {
   "cell_type": "code",
   "execution_count": 10,
   "metadata": {},
   "outputs": [
    {
     "name": "stdout",
     "output_type": "stream",
     "text": [
      "100.0\n",
      "<class 'float'>\n"
     ]
    }
   ],
   "source": [
    "#receba o primeiro numero\n",
    "numero1 = float (input ('digite o primeiro numero'))\n",
    "#receba o segundo numero \n",
    "numero2 = float (input ('digite o segundo numero'))\n",
    "#multiplica o primeiro numero * o segundo numero \n",
    "multiplica = numero1 * numero2\n",
    "#exibir o resultado \n",
    "print (multiplica)\n",
    "print (type(multiplica))"
   ]
  },
  {
   "cell_type": "code",
   "execution_count": 9,
   "metadata": {},
   "outputs": [
    {
     "name": "stdout",
     "output_type": "stream",
     "text": [
      "3500.0\n",
      " voce obtve R$ 1500.0, e pagou R$ 3500.0\n"
     ]
    }
   ],
   "source": [
    "\n",
    "preco = float (input ('digite o preco'))\n",
    "desconto = float (input ('digite o desconto')) \n",
    "preco = preco - desconto \n",
    "print (preco)\n",
    "print (f' voce obtve R$ {desconto}, e pagou R$ {preco}')"
   ]
  },
  {
   "cell_type": "code",
   "execution_count": 14,
   "metadata": {},
   "outputs": [
    {
     "name": "stdout",
     "output_type": "stream",
     "text": [
      "12\n",
      "144\n",
      "4320\n",
      " o valor final é 4320\n"
     ]
    }
   ],
   "source": [
    "numero= 10 + 2 \n",
    "print (numero)\n",
    "numero = numero ** 2\n",
    "print (numero)\n",
    "numero = numero * (50-20)\n",
    "print (numero)\n",
    "print (f' o valor final é {numero}')"
   ]
  },
  {
   "cell_type": "code",
   "execution_count": 18,
   "metadata": {},
   "outputs": [
    {
     "name": "stdout",
     "output_type": "stream",
     "text": [
      "12000\n"
     ]
    }
   ],
   "source": [
    "horas=8\n",
    "pago=100\n",
    "dias= 15\n",
    "passo1 = horas * pago \n",
    "multiplica=  dias * passo1\n",
    "print (multiplica)"
   ]
  },
  {
   "cell_type": "markdown",
   "metadata": {},
   "source": [
    "29/02/2024- Operadores relacionais e estrutura condicionais "
   ]
  },
  {
   "cell_type": "code",
   "execution_count": 11,
   "metadata": {},
   "outputs": [
    {
     "name": "stdout",
     "output_type": "stream",
     "text": [
      " a > b? False\n",
      " a == b?False\n",
      " a != b?True\n",
      " a > 2? False\n",
      " a>= 2? True\n"
     ]
    }
   ],
   "source": [
    "a = 2\n",
    "b = 3 \n",
    "print (f' a > b? {a > b}')\n",
    "print (f' a == b?{a == b}')\n",
    "print (f' a != b?{a != b}')\n",
    "print (f' a > 2? {a > 2}')\n",
    "print (f' a>= 2? {a >= 2}')"
   ]
  },
  {
   "cell_type": "code",
   "execution_count": 17,
   "metadata": {},
   "outputs": [
    {
     "name": "stdout",
     "output_type": "stream",
     "text": [
      "posso entrar\n",
      "fim\n"
     ]
    }
   ],
   "source": [
    "tenho_ingresso = True\n",
    "if tenho_ingresso == True:\n",
    "    print ('posso entrar')\n",
    "    print ('fim')\n",
    "  "
   ]
  },
  {
   "cell_type": "code",
   "execution_count": 23,
   "metadata": {},
   "outputs": [
    {
     "name": "stdout",
     "output_type": "stream",
     "text": [
      "voce é menor!!\n",
      "fim\n"
     ]
    }
   ],
   "source": [
    "#passo 1: receber o valor da idade \n",
    "idade = int (input ('qual sua idade?'))\n",
    "#passo 2: verificar SE é maior ou igual a 18 ENTAO \n",
    "if idade >= 18 :\n",
    "    #passo 3: se for exibir \"Maior idade\"\n",
    "    print (\"maior idade\")\n",
    "else:\n",
    "    print ('voce é menor!!')\n",
    "print ('fim')      "
   ]
  },
  {
   "cell_type": "code",
   "execution_count": 22,
   "metadata": {},
   "outputs": [
    {
     "name": "stdout",
     "output_type": "stream",
     "text": [
      "vá comprar\n",
      "fim\n"
     ]
    }
   ],
   "source": [
    "tenho_ingresso = False\n",
    "if tenho_ingresso == True:\n",
    "    print ('posso entrar')\n",
    "else :\n",
    "    print ('vá comprar')\n",
    "\n",
    "print ('fim')"
   ]
  },
  {
   "cell_type": "markdown",
   "metadata": {},
   "source": [
    "01/03/2024 - operadores lógicos e estrutura condicional "
   ]
  },
  {
   "cell_type": "code",
   "execution_count": 6,
   "metadata": {},
   "outputs": [
    {
     "name": "stdout",
     "output_type": "stream",
     "text": [
      "False\n",
      "False\n",
      "True\n",
      "True\n"
     ]
    }
   ],
   "source": [
    "a = 2\n",
    "b = 3\n",
    "c = 5\n",
    "#      false  e  false\n",
    "print ((a>2)and(b<2)) #false\n",
    "#      false  ou  false\n",
    "print ((a>2)or(b<2)) #false\n",
    "#      false ou   true\n",
    "print ((a>2)or(b<5)) #true\n",
    "\n",
    "idade = 18\n",
    "#      false ou   true\n",
    "print (idade>18 or idade == 18 ) # true\n",
    "#      idade >= 18\n"
   ]
  },
  {
   "cell_type": "code",
   "execution_count": 8,
   "metadata": {},
   "outputs": [
    {
     "name": "stdout",
     "output_type": "stream",
     "text": [
      "seu imc é  21.6\n",
      "peso ideal!\n"
     ]
    }
   ],
   "source": [
    "Altura= float (input ('digite sua altura em m: ')) \n",
    "peso= float(input ('digite seu peso em kg:'))\n",
    "imc = peso / (Altura ** 2)\n",
    "print (f'seu imc é {imc: .1f}')\n",
    "if imc < 18.5 :\n",
    "    print ('Abaixo do seu peso ideal!')\n",
    "elif imc >= 18.6 and imc <= 24.9 :\n",
    "    print ('peso ideal!') \n",
    "elif imc >= 25 and imc <= 29.9:\n",
    "    print ('sobrepeso')\n",
    "else:\n",
    "    print (' obesidade')"
   ]
  },
  {
   "cell_type": "code",
   "execution_count": 11,
   "metadata": {},
   "outputs": [
    {
     "name": "stdout",
     "output_type": "stream",
     "text": [
      "triangulo equilatero\n"
     ]
    }
   ],
   "source": [
    "lado1 = input ('digite lado 1')\n",
    "lado2 = input ('digite lado 2')\n",
    "lado3 = input ('digite lado 3')\n",
    "if (lado1 == lado2) and (lado2 == lado3):\n",
    "    print ('triangulo equilatero')\n",
    "elif (lado1 != lado2) and (lado2 != lado3) and (lado1 != lado3):\n",
    "    print('triangulo escaleno')\n",
    "else:\n",
    "    print ('triangulo isosceles')"
   ]
  },
  {
   "cell_type": "code",
   "execution_count": 3,
   "metadata": {},
   "outputs": [
    {
     "name": "stdout",
     "output_type": "stream",
     "text": [
      "a letra 2 é um numero\n"
     ]
    }
   ],
   "source": [
    "letra= input ('digite uma letra:')\n",
    "if letra == 'a' or letra == 'e' or letra == 'i' or letra == 'o' or letra == 'u':\n",
    "    print (f'a letra {letra} é uma vogal')\n",
    "elif letra == '1' or letra == '2' or letra == '3' or letra == '4':\n",
    "    print (f'a letra {letra} é um numero')\n",
    "else:\n",
    "    print (f'a letra {letra} não é vogal')"
   ]
  },
  {
   "cell_type": "markdown",
   "metadata": {},
   "source": [
    "07/03/2024 - Estrutura condicional aninhada / match case "
   ]
  },
  {
   "cell_type": "code",
   "execution_count": 8,
   "metadata": {},
   "outputs": [
    {
     "name": "stdout",
     "output_type": "stream",
     "text": [
      "voce é obrigado a votar\n"
     ]
    }
   ],
   "source": [
    "idade= int (input ('digite sua idade'))\n",
    "if idade >= 18 and idade <= 70 :\n",
    "    print('voce é obrigado a votar')\n",
    "else: \n",
    "    if idade < 16: \n",
    "        print ('voce não pode votar')\n",
    "    else:\n",
    "        if idade >= 16 or idade > 70 :\n",
    "            print ('seu voto é facultativo') "
   ]
  },
  {
   "cell_type": "code",
   "execution_count": 13,
   "metadata": {},
   "outputs": [
    {
     "name": "stdout",
     "output_type": "stream",
     "text": [
      "5 * 8 = -3\n"
     ]
    }
   ],
   "source": [
    "nr1 = int (input ('digite o nr 1'))\n",
    "nr2 = int (input ('digite o nr 2'))\n",
    "op = input ('digite um operador +-*/**')\n",
    "match op:\n",
    "     case '+':\n",
    "          print (f'{nr1} + {nr2} = {nr1+nr2}')\n",
    "     case '-':\n",
    "          print (f'{nr1} - {nr2} = {nr1-nr2}')\n",
    "     case '*' :\n",
    "          print (f'{nr1} * {nr2} = {nr1-nr2}')\n",
    "     case '/':\n",
    "          print (f'{nr1} / {nr2} = {nr1-nr2}')\n",
    "     case '**': \n",
    "          print (f'{nr1} ** {nr2} = {nr1-nr2}')\n",
    "     \n",
    "\n",
    "\n"
   ]
  },
  {
   "cell_type": "markdown",
   "metadata": {},
   "source": [
    "08/ 03/2024 - laços de repetição - while"
   ]
  },
  {
   "cell_type": "code",
   "execution_count": 8,
   "metadata": {},
   "outputs": [
    {
     "name": "stdout",
     "output_type": "stream",
     "text": [
      "eu vou pretar atenção na aula\n",
      "eu vou pretar atenção na aula\n",
      "eu vou pretar atenção na aula\n",
      "eu vou pretar atenção na aula\n",
      "eu vou pretar atenção na aula\n",
      "eu vou pretar atenção na aula\n",
      "FIM\n"
     ]
    }
   ],
   "source": [
    "x = 1\n",
    "while x <= 6:\n",
    "    print ('eu vou pretar atenção na aula')\n",
    "    x = x + 1\n",
    "print ('FIM')\n"
   ]
  },
  {
   "cell_type": "code",
   "execution_count": 12,
   "metadata": {},
   "outputs": [
    {
     "name": "stdout",
     "output_type": "stream",
     "text": [
      "10\n",
      "9\n",
      "8\n",
      "7\n",
      "6\n",
      "5\n",
      "4\n",
      "3\n",
      "2\n",
      "1\n",
      "0\n",
      "feliz ano novo🎆\n"
     ]
    }
   ],
   "source": [
    "import time\n",
    "x= 10 \n",
    "while x >= 0 :\n",
    "    print (x)\n",
    "    time.sleep (0.5)\n",
    "    x = x - 1 \n",
    "print ('feliz ano novo🎆')"
   ]
  },
  {
   "cell_type": "code",
   "execution_count": 15,
   "metadata": {},
   "outputs": [
    {
     "name": "stdout",
     "output_type": "stream",
     "text": [
      " seja bem vindo, heloise\n",
      " seja bem vindo, sair\n"
     ]
    }
   ],
   "source": [
    "texto = ''\n",
    "while texto != 'sair' :\n",
    "    texto = input ('digite seu nome (\"sair\" para terminar):')\n",
    "    print (f' seja bem vindo, {texto}') "
   ]
  },
  {
   "cell_type": "code",
   "execution_count": 1,
   "metadata": {},
   "outputs": [
    {
     "name": "stdout",
     "output_type": "stream",
     "text": [
      "fim\n"
     ]
    }
   ],
   "source": [
    "senha_senai = \"12345\" \n",
    "nr_tentativas = 0\n",
    "while True:\n",
    "    senha = input ('qual é a senha🤔? \"desisto\" para sair ')\n",
    "    if senha == senha_senai:\n",
    "        print ('voce hackeou a rede')\n",
    "        break \n",
    "    elif senha == 'desisto':\n",
    "        break \n",
    "    else : \n",
    "        nr_tentaivas = nr_tentativas + 1\n",
    "        if nr_tentaivas == 3 :\n",
    "            print ('voce esta preso')\n",
    "            break\n",
    "print ('fim')\n",
    "\n"
   ]
  },
  {
   "cell_type": "markdown",
   "metadata": {},
   "source": [
    "21/03/2024 - Revisão de while "
   ]
  },
  {
   "cell_type": "code",
   "execution_count": 7,
   "metadata": {},
   "outputs": [
    {
     "name": "stdout",
     "output_type": "stream",
     "text": [
      "FIM\n"
     ]
    }
   ],
   "source": [
    "resp = 'S'\n",
    "while resp == 'S' :\n",
    "    resp = input ('deseja continuar? [S/N]')\n",
    "\n",
    "print('FIM')\n",
    "                  "
   ]
  },
  {
   "cell_type": "code",
   "execution_count": 20,
   "metadata": {},
   "outputs": [
    {
     "name": "stdout",
     "output_type": "stream",
     "text": [
      "valor Total R$ 65.00 qtde produto 2\n"
     ]
    }
   ],
   "source": [
    "soma = 0 \n",
    "qtde = 0\n",
    "while True :\n",
    "    valor = float (input ('digite o valor do produto [- 1 para encerrar]'))\n",
    "    if valor == -1 :\n",
    "        break \n",
    "    soma = valor + soma \n",
    "    qtde = qtde + 1 \n",
    "\n",
    "print (f'valor Total R$ {soma:.2f} qtde produto {qtde}') "
   ]
  },
  {
   "cell_type": "code",
   "execution_count": 4,
   "metadata": {},
   "outputs": [
    {
     "name": "stdout",
     "output_type": "stream",
     "text": [
      "-=-=-=-=-=-=-=-=-=-=-=-=-=-\n",
      "  🤔 JOGO DA ADIVINHA 🤔  \n",
      "-=-=-=-=-=-=-=-=-=-=-=-=-=-\n",
      "você chutou 62. tente um numero 👇\n",
      "você chutou 52. tente um numero 👇\n",
      "você chutou 32. tente um numero 👇\n",
      "você chutou 12. tente um numero 👇\n",
      " você chutou 3. tente um numero 👆\n",
      " você chutou 2. tente um numero 👆\n",
      "você chutou 10. tente um numero 👇\n",
      "você chutou 9. tente um numero 👇\n",
      "você chutou 7. tente um numero 👇\n",
      " você chutou 5. tente um numero 👆\n",
      "você chutou 6. Parabens você acertou 👏👏 \n"
     ]
    }
   ],
   "source": [
    "#importando a biblioteca de numeros aleatorios \n",
    "import random \n",
    "#Sorteando um numero de 1 a 100\n",
    "nrSorteado = random.randint(1, 100)\n",
    "\n",
    "print ('-=-=-=-=-=-=-=-=-=-=-=-=-=-')\n",
    "print ('  🤔 JOGO DA ADIVINHA 🤔  ')\n",
    "print ('-=-=-=-=-=-=-=-=-=-=-=-=-=-')\n",
    "\n",
    "acertou = False\n",
    "while acertou == False :\n",
    "    chute = int(input ('🕵️‍♂️digite um numero entre 1 e 100:'))\n",
    "    if chute ==nrSorteado:\n",
    "        print (f'você chutou {chute}. Parabens você acertou 👏👏 ')\n",
    "        acertou = True \n",
    "    elif chute > nrSorteado :\n",
    "        print (f'você chutou {chute}. tente um numero 👇')\n",
    "    else : \n",
    "        print (f' você chutou {chute}. tente um numero 👆')\n",
    "    \n"
   ]
  },
  {
   "cell_type": "markdown",
   "metadata": {},
   "source": [
    "22/03/2024 - For "
   ]
  },
  {
   "cell_type": "code",
   "execution_count": 6,
   "metadata": {},
   "outputs": [
    {
     "name": "stdout",
     "output_type": "stream",
     "text": [
      "0\n",
      "1\n",
      "2\n",
      "3\n",
      "4\n",
      "5\n",
      "FIM\n"
     ]
    }
   ],
   "source": [
    "for x in range (6) :\n",
    "    print (x)\n",
    "print (f'FIM')"
   ]
  },
  {
   "cell_type": "code",
   "execution_count": 3,
   "metadata": {},
   "outputs": [
    {
     "name": "stdout",
     "output_type": "stream",
     "text": [
      "Entregando os notbooks\n",
      "pegar o notebook 1 \n",
      "pegar o mouse 1\n",
      "levar o notebook ate o (a) arthur\n",
      " não pegar o notebook 2\n",
      " não pegar o notebook 3\n",
      " não pegar o notebook 4\n",
      " não pegar o notebook 5\n",
      " não pegar o notebook 6\n",
      " não pegar o notebook 7\n",
      " não pegar o notebook 8\n",
      " não pegar o notebook 9\n",
      " não pegar o notebook 10\n",
      " não pegar o notebook 11\n",
      " não pegar o notebook 12\n",
      " não pegar o notebook 13\n",
      " não pegar o notebook 14\n",
      " não pegar o notebook 15\n",
      " não pegar o notebook 16\n",
      " não pegar o notebook 17\n",
      " não pegar o notebook 18\n",
      " não pegar o notebook 19\n"
     ]
    }
   ],
   "source": [
    "print ('Entregando os notbooks')\n",
    "for nr in range (32) :\n",
    "    nr = nr + 1 \n",
    "    nome = input (f' quem é o n° {nr} ?')\n",
    "    presente = input (f' o (a) {nome} veio para a escola [s/n]')\n",
    "    if presente == 's' :\n",
    "       print (f'pegar o notebook {nr} ')\n",
    "       print (f'pegar o mouse {nr}')\n",
    "       print (f'levar o notebook ate o (a) {nome}')\n",
    "    else :\n",
    "        print (f' não pegar o notebook {nr}')\n",
    "\n",
    "print ('começar a aula')"
   ]
  },
  {
   "cell_type": "code",
   "execution_count": 3,
   "metadata": {},
   "outputs": [
    {
     "name": "stdout",
     "output_type": "stream",
     "text": [
      "5\n",
      "7\n",
      "9\n",
      "11\n",
      "13\n",
      "15\n",
      "17\n",
      "19\n",
      "21\n",
      "23\n",
      "25\n",
      "27\n",
      "29\n"
     ]
    }
   ],
   "source": [
    "for x in range(5,30, 2) :\n",
    "    print (x)"
   ]
  },
  {
   "cell_type": "code",
   "execution_count": 8,
   "metadata": {},
   "outputs": [
    {
     "name": "stdout",
     "output_type": "stream",
     "text": [
      "9 x 0 = 0\n",
      "9 x 1 = 9\n",
      "9 x 2 = 18\n",
      "9 x 3 = 27\n",
      "9 x 4 = 36\n",
      "9 x 5 = 45\n",
      "9 x 6 = 54\n",
      "9 x 7 = 63\n",
      "9 x 8 = 72\n",
      "9 x 9 = 81\n",
      "9 x 10 = 90\n"
     ]
    }
   ],
   "source": [
    "n = int (input('digite o nr'))\n",
    "for x in range (11) :\n",
    "    print(f'{n} x {x} = {n*x}')"
   ]
  },
  {
   "cell_type": "code",
   "execution_count": 9,
   "metadata": {},
   "outputs": [
    {
     "name": "stdout",
     "output_type": "stream",
     "text": [
      "S\n",
      "E\n",
      "S\n",
      "I\n",
      "/\n",
      "S\n",
      "E\n",
      "N\n",
      "A\n",
      "I\n",
      "FIM\n"
     ]
    }
   ],
   "source": [
    "for letra in 'SESI/SENAI' :\n",
    "    print (letra)\n",
    "print ('FIM')"
   ]
  },
  {
   "cell_type": "code",
   "execution_count": 10,
   "metadata": {},
   "outputs": [
    {
     "name": "stdout",
     "output_type": "stream",
     "text": [
      "0\n",
      "1\n",
      "2\n",
      "3\n",
      "4\n",
      "5\n",
      "6\n",
      "7\n",
      "8\n",
      "9\n"
     ]
    }
   ],
   "source": [
    "for x in range (100) :\n",
    "    if x == 10 : \n",
    "        break \n",
    "    print (x)"
   ]
  },
  {
   "cell_type": "markdown",
   "metadata": {},
   "source": [
    "28/03/24 - Variaveis compostas - vetores / Listas "
   ]
  },
  {
   "cell_type": "code",
   "execution_count": 16,
   "metadata": {},
   "outputs": [
    {
     "name": "stdout",
     "output_type": "stream",
     "text": [
      "['Maça', 'Banana', 'Abacaxi', 'Uva']\n",
      "Abacaxi\n",
      "[]\n",
      "True\n"
     ]
    }
   ],
   "source": [
    "frutas = ['Maça', 'Banana', 'Abacaxi', 'Uva']\n",
    "print (frutas)\n",
    "print (frutas [2])\n",
    "\n",
    "#declarando uma lista vazia \n",
    "lista_vazia = [] \n",
    "print (lista_vazia)\n",
    "\n",
    "#declaraçao de uma lista de numeros\n",
    "numeros = ['5','10','8',]\n",
    "\n",
    "#declaraçao de uma lista de strings \n",
    "nomes = ['ana', 'joao', 'maria']\n",
    "\n",
    "#declaraçao de uma lista mista \n",
    "lista_mista = [1, 'teste', True, 3.5]\n",
    "print (lista_mista[2])"
   ]
  },
  {
   "cell_type": "code",
   "execution_count": 32,
   "metadata": {},
   "outputs": [
    {
     "name": "stdout",
     "output_type": "stream",
     "text": [
      "['Maça', 'Banana', 'Abacaxi', 'Melancia']\n",
      "['Maça', 'Banana', 'Abacaxi', 'Melancia', 'laranja']\n",
      "['Maça', 'Banana', 'morango', 'Abacaxi', 'Melancia', 'laranja']\n",
      "['Maça', 'Banana', 'morango', 'Melancia', 'laranja']\n",
      "['Maça', 'Banana', 'morango', 'Melancia']\n"
     ]
    }
   ],
   "source": [
    "frutas = ['Maça', 'Banana', 'Abacaxi', 'uva']\n",
    "#alterando o valor de um intem da lista\n",
    "frutas[3] = 'Melancia' \n",
    "print (frutas) \n",
    "\n",
    "\n",
    "#incluindo um novo item no final da lista \n",
    "frutas.append('laranja')\n",
    "print(frutas)\n",
    "\n",
    "#incluindo um novo intem em uma posição especifica \n",
    "frutas.insert (2, 'morango') \n",
    "print (frutas)\n",
    "\n",
    "#excluindo intem da lista \n",
    "#del frutas[3]\n",
    "#frutas.pop(3)\n",
    "frutas.pop (3)\n",
    "print (frutas)\n",
    "\n",
    "#excluindo ultimo item da lista \n",
    "frutas.pop()\n",
    "print (frutas)"
   ]
  },
  {
   "cell_type": "code",
   "execution_count": 10,
   "metadata": {},
   "outputs": [
    {
     "ename": "IndexError",
     "evalue": "list index out of range",
     "output_type": "error",
     "traceback": [
      "\u001b[1;31m---------------------------------------------------------------------------\u001b[0m",
      "\u001b[1;31mIndexError\u001b[0m                                Traceback (most recent call last)",
      "Cell \u001b[1;32mIn[10], line 2\u001b[0m\n\u001b[0;32m      1\u001b[0m frutas \u001b[38;5;241m=\u001b[39m [\u001b[38;5;124m'\u001b[39m\u001b[38;5;124mMaça\u001b[39m\u001b[38;5;124m'\u001b[39m, \u001b[38;5;124m'\u001b[39m\u001b[38;5;124mBanana\u001b[39m\u001b[38;5;124m'\u001b[39m, \u001b[38;5;124m'\u001b[39m\u001b[38;5;124mAbacaxi\u001b[39m\u001b[38;5;124m'\u001b[39m, \u001b[38;5;124m'\u001b[39m\u001b[38;5;124mUva\u001b[39m\u001b[38;5;124m'\u001b[39m]\n\u001b[1;32m----> 2\u001b[0m \u001b[38;5;28mprint\u001b[39m (\u001b[43mfrutas\u001b[49m\u001b[43m[\u001b[49m\u001b[38;5;241;43m4\u001b[39;49m\u001b[43m]\u001b[49m) \u001b[38;5;66;03m#posiçao especifica \u001b[39;00m\n\u001b[0;32m      3\u001b[0m \u001b[38;5;28mprint\u001b[39m (frutas[\u001b[38;5;241m0\u001b[39m:\u001b[38;5;241m4\u001b[39m]) \u001b[38;5;66;03m#da posiçao 0 pegar 4 itens\u001b[39;00m\n\u001b[0;32m      4\u001b[0m \u001b[38;5;28mprint\u001b[39m (frutas[\u001b[38;5;241m1\u001b[39m:]) \u001b[38;5;66;03m#da posiçao 1 ate o ultimo\u001b[39;00m\n",
      "\u001b[1;31mIndexError\u001b[0m: list index out of range"
     ]
    }
   ],
   "source": [
    "frutas = ['Maça', 'Banana', 'Abacaxi', 'Uva']\n",
    "print (frutas[4]) #posiçao especifica \n",
    "print (frutas[0:4]) #da posiçao 0 pegar 4 itens\n",
    "print (frutas[1:]) #da posiçao 1 ate o ultimo\n",
    "print (frutas[-1]) #nr de intem do fim pro inicio\n",
    "print (len (frutas)) #total de intens na lista \n",
    "\n",
    "frutas.sort() #ordenando lista em ordem crescente \n",
    "print (frutas)\n",
    "frutas.reverse() #ordenando lista em ordem decresente \n",
    "print(frutas)"
   ]
  },
  {
   "cell_type": "markdown",
   "metadata": {},
   "source": [
    "Aula - 04/04/2024 - Iteração em lista "
   ]
  },
  {
   "cell_type": "code",
   "execution_count": 12,
   "metadata": {},
   "outputs": [
    {
     "name": "stdout",
     "output_type": "stream",
     "text": [
      "a é uma vogal\n"
     ]
    }
   ],
   "source": [
    "#criando um lista de vogais \n",
    "vogais = ['a', 'e', 'i', 'o', 'u']\n",
    "consoantes = ['b', 'c', 'd', 'f', 'g', 'h', 'j', 'k', 'l', 'm', 'n', 'p','q', 'r', 's', 't', 'v', 'w', 'x', 'y', 'z' ]\n",
    "numero = ['1', '2', '3', '4', '5', '6', '7', '8', '9']\n",
    "#recebendo um caractere digitado pelo usuario \n",
    "letra = input ('informe um caractere')\n",
    "#o metodo  .lower() deixa todas as letras digitandas como minuscula \n",
    "#o metodo  .upper() deixa todas as letras digitandas como maiuscula \n",
    "# lemos da seguinte forma :\n",
    "# Se a letra em MINUSCULA ESTIVER na lista de vogais ENTÃO\n",
    "if letra.lower() in vogais :\n",
    "    print(f'{letra} é uma vogal')\n",
    "elif letra.lower() in consoantes :\n",
    "    print (f' {letra} é uma consoante')\n",
    "elif letra.lower() in numero :\n",
    "    print (f' {letra} é um numero')\n",
    "else :\n",
    "    print ('nao é uma letra')\n",
    "\n",
    "\n"
   ]
  },
  {
   "cell_type": "code",
   "execution_count": 13,
   "metadata": {},
   "outputs": [
    {
     "name": "stdout",
     "output_type": "stream",
     "text": [
      "Pele\n",
      "maradona\n",
      "messi\n",
      "cristiano ronaldo\n"
     ]
    }
   ],
   "source": [
    "listanomes = ['Pele', 'maradona', 'messi', 'cristiano ronaldo' ] \n",
    "for nome in listanomes :\n",
    "    print (nome)"
   ]
  },
  {
   "cell_type": "code",
   "execution_count": 19,
   "metadata": {},
   "outputs": [
    {
     "name": "stdout",
     "output_type": "stream",
     "text": [
      "26\n"
     ]
    }
   ],
   "source": [
    "listNrs = [4, 6, 2, 5, 9]\n",
    "soma = 0\n",
    "for nr in listNrs :\n",
    "    soma= soma + nr\n",
    "print (soma)"
   ]
  },
  {
   "cell_type": "code",
   "execution_count": 20,
   "metadata": {},
   "outputs": [
    {
     "name": "stdout",
     "output_type": "stream",
     "text": [
      " a fruta maça esta na posição 0\n",
      " a fruta banana esta na posição 1\n",
      " a fruta abacaxi esta na posição 2\n",
      " a fruta uva esta na posição 3\n"
     ]
    }
   ],
   "source": [
    "listafrutas =  ['maça', 'banana', 'abacaxi', 'uva']\n",
    "for pos, fruta in enumerate(listafrutas) :\n",
    "    print (f' a fruta {fruta} esta na posição {pos}')"
   ]
  },
  {
   "cell_type": "code",
   "execution_count": 23,
   "metadata": {},
   "outputs": [
    {
     "name": "stdout",
     "output_type": "stream",
     "text": [
      "celular\n",
      " notebook\n",
      " TV\n",
      " tablet\n",
      " headset\n"
     ]
    }
   ],
   "source": [
    "produtos = 'celular, notebook, TV, tablet, headset'\n",
    "listaprodutos = produtos.split(',')\n",
    "for produto in listaprodutos :\n",
    "    print (produto)"
   ]
  },
  {
   "cell_type": "code",
   "execution_count": 28,
   "metadata": {},
   "outputs": [
    {
     "name": "stdout",
     "output_type": "stream",
     "text": [
      "S\n",
      "E\n",
      "N\n",
      "A\n",
      "I\n"
     ]
    }
   ],
   "source": [
    "palavra = 'SENAI'\n",
    "for letra in palavra :\n",
    "    print (letra)"
   ]
  },
  {
   "cell_type": "code",
   "execution_count": 9,
   "metadata": {},
   "outputs": [
    {
     "name": "stdout",
     "output_type": "stream",
     "text": [
      "1° lasanha\n",
      "2° pizza\n"
     ]
    }
   ],
   "source": [
    "# criando uma lista vazia\n",
    "listaComidas = []\n",
    "# Laço de repetição sem um nr de execução definida \n",
    "while True :\n",
    "    # recebendo informações do usuario e armazenando em uma variável \n",
    "    comida =  input ('digite uma comida que voce mais gosta')\n",
    "    #inserindo o valor da variavel no final da nossa lista\n",
    "    listaComidas.append(comida)\n",
    "    #obtendo a resposta dousuario se deseja continuar \n",
    "    resp = input ('deseja continuar? [S/N]')\n",
    "    #verificando condição da resposta dele, se for N ou n sair do laço \n",
    "    if resp in 'Nn':\n",
    "        #parando o laço de repetição while \n",
    "        break\n",
    "\n",
    "#fora do while - apos finalizar sua execução e encontar o break \n",
    "#laço de repetição para exibir os itens e suas posições   \n",
    "for pos, comida in enumerate (listaComidas) :\n",
    "    #exibindo as variaveis de cada item da lista\n",
    "    print (f'{pos+1}° {comida}')"
   ]
  },
  {
   "cell_type": "markdown",
   "metadata": {},
   "source": [
    "11/04/2024 - Funções "
   ]
  },
  {
   "cell_type": "code",
   "execution_count": 3,
   "metadata": {},
   "outputs": [
    {
     "name": "stdout",
     "output_type": "stream",
     "text": [
      "--------------------\n",
      "sesi / senai\n",
      "--------------------\n"
     ]
    }
   ],
   "source": [
    "print ('-' * 20)\n",
    "print ('sesi / senai')\n",
    "print ('-' * 20)"
   ]
  },
  {
   "cell_type": "code",
   "execution_count": 10,
   "metadata": {},
   "outputs": [
    {
     "name": "stdout",
     "output_type": "stream",
     "text": [
      "$$$$$$$$$$\n",
      "==========\n",
      "sesi / senai\n",
      "$$$$$$$$$$\n",
      "==========\n"
     ]
    }
   ],
   "source": [
    "def linha ():\n",
    "    print ('$' * 10)\n",
    "    print ('=' * 10)\n",
    "\n",
    "linha()\n",
    "print( 'sesi / senai' )\n",
    "linha()"
   ]
  },
  {
   "cell_type": "code",
   "execution_count": 16,
   "metadata": {},
   "outputs": [
    {
     "name": "stdout",
     "output_type": "stream",
     "text": [
      "--------------------\n",
      "sesi / senai\n",
      "--------------------\n",
      "--------------------\n",
      "sesi / senai\n",
      "--------------------\n",
      "--------------------\n",
      "sesi / senai\n",
      "--------------------\n"
     ]
    }
   ],
   "source": [
    "def linha ():\n",
    "    print ('-' * 20 )\n",
    "\n",
    "def cabecalho () :\n",
    "    linha()\n",
    "    print ('sesi / senai')\n",
    "    linha()\n",
    "    \n",
    "cabecalho ()\n",
    "cabecalho ()\n",
    "cabecalho ()\n"
   ]
  },
  {
   "cell_type": "code",
   "execution_count": 3,
   "metadata": {},
   "outputs": [
    {
     "name": "stdout",
     "output_type": "stream",
     "text": [
      "helo tenha um bom dia\n",
      "helo tenha um bom dia\n",
      "helo tenha um bom dia\n"
     ]
    }
   ],
   "source": [
    "def saudacao():\n",
    "   nome= input (f'digite seu nome')\n",
    "   print  (f'{nome} tenha um bom dia')\n",
    "\n",
    "saudacao()\n",
    "saudacao()\n",
    "saudacao()"
   ]
  },
  {
   "cell_type": "code",
   "execution_count": 18,
   "metadata": {},
   "outputs": [
    {
     "name": "stdout",
     "output_type": "stream",
     "text": [
      "--------------------\n",
      "SESI\n",
      "--------------------\n",
      "--------------------\n",
      "SENAI\n",
      "--------------------\n",
      "--------------------\n",
      "ESCOLA\n",
      "--------------------\n"
     ]
    }
   ],
   "source": [
    "def cabecalho(texto) :\n",
    "    print('-' * 20)\n",
    "    print (texto)\n",
    "    print('-' * 20 )\n",
    "    \n",
    "cabecalho('SESI')\n",
    "cabecalho('SENAI')\n",
    "cabecalho('ESCOLA')"
   ]
  },
  {
   "cell_type": "code",
   "execution_count": 22,
   "metadata": {},
   "outputs": [
    {
     "name": "stdout",
     "output_type": "stream",
     "text": [
      " a soma de 10 + 5 é 15\n",
      " a soma de 79 + 80 é 159\n"
     ]
    }
   ],
   "source": [
    "def soma (n1,n2) :\n",
    "    res = n1 + n2 \n",
    "    print (f' a soma de {n1} + {n2} é {res}')\n",
    "soma (10, 5)\n",
    "soma(79,80)"
   ]
  },
  {
   "cell_type": "code",
   "execution_count": 36,
   "metadata": {},
   "outputs": [
    {
     "name": "stdout",
     "output_type": "stream",
     "text": [
      "5 é impar\n",
      "8 é par\n"
     ]
    }
   ],
   "source": [
    "def parImpar (nr):\n",
    "    if nr % 2 == 0 :\n",
    "     print(f'{nr} é par') \n",
    "    else :\n",
    "       print (f'{nr} é impar')  \n",
    "\n",
    "parImpar(5)\n",
    "parImpar(8)\n",
    "\n",
    "    "
   ]
  },
  {
   "cell_type": "code",
   "execution_count": 40,
   "metadata": {},
   "outputs": [
    {
     "name": "stdout",
     "output_type": "stream",
     "text": [
      "9.0\n",
      "7.5\n"
     ]
    }
   ],
   "source": [
    "def media (n1,n2):\n",
    "    res = (n1 + n2) /2\n",
    "    return(res)\n",
    "\n",
    "#a variacel resultado_media recebe o retorno da função media\n",
    "resultado_media = media(10, 8)\n",
    "print (resultado_media)\n",
    "print (media(10,5))"
   ]
  },
  {
   "cell_type": "code",
   "execution_count": 61,
   "metadata": {},
   "outputs": [
    {
     "data": {
      "text/plain": [
       "'17/5/2008'"
      ]
     },
     "execution_count": 61,
     "metadata": {},
     "output_type": "execute_result"
    }
   ],
   "source": [
    "def FormatarData(dia, mes, ano):\n",
    "  data = (f'{dia}/{mes}/{ano}')\n",
    "  return (data)  \n",
    "\n",
    "\n",
    "FormatarData (17,5,2008)    "
   ]
  },
  {
   "cell_type": "markdown",
   "metadata": {},
   "source": [
    ">12/04/2024 - Escopo de variaveis (variavel local e global)"
   ]
  },
  {
   "cell_type": "code",
   "execution_count": 5,
   "metadata": {},
   "outputs": [
    {
     "name": "stdout",
     "output_type": "stream",
     "text": [
      "valor antes da função senai\n",
      "sesi\n",
      "valor depois da função senai\n"
     ]
    }
   ],
   "source": [
    "def NomeEscola (): \n",
    "    escola = 'sesi'\n",
    "    print(escola)\n",
    "\n",
    "escola = 'senai'\n",
    "print (f'valor antes da função {escola}')\n",
    "NomeEscola()\n",
    "print (f'valor depois da função {escola}')\n"
   ]
  },
  {
   "cell_type": "code",
   "execution_count": 3,
   "metadata": {},
   "outputs": [
    {
     "name": "stdout",
     "output_type": "stream",
     "text": [
      "valor Antes da funçao senai\n",
      "valor dentro da funçao sesi\n",
      "valor Depois da funçao sesi\n"
     ]
    }
   ],
   "source": [
    "def nomeEscola():\n",
    "    # caso eu queria atuaizar o conteudo da variavel escola\n",
    "    # preciso escrever que ela é global \n",
    "    global escola \n",
    "    escola='sesi'\n",
    "    print(f'valor dentro da funçao {escola}')\n",
    "\n",
    "\n",
    "escola = 'senai'\n",
    "print (f'valor Antes da funçao {escola}')\n",
    "nomeEscola()\n",
    "print (f'valor Depois da funçao {escola}')"
   ]
  },
  {
   "cell_type": "code",
   "execution_count": 9,
   "metadata": {},
   "outputs": [
    {
     "name": "stdout",
     "output_type": "stream",
     "text": [
      "fora da funçao 10\n",
      "dentro da funçao 1\n",
      "fora da funçao 10\n"
     ]
    }
   ],
   "source": [
    "x = 10 # x é uma variavel global \n",
    "# podemos acessar x fora de uma funçao tambem \n",
    "print ('fora da funçao', x)\n",
    "\n",
    "def minhaFunçao ():\n",
    "    x = 0 # <- variavel local\n",
    "    x = x + 1\n",
    "    print ('dentro da funçao', x)\n",
    "\n",
    "minhaFunçao()\n",
    "print ('fora da funçao', x)"
   ]
  },
  {
   "cell_type": "code",
   "execution_count": 10,
   "metadata": {},
   "outputs": [
    {
     "name": "stdout",
     "output_type": "stream",
     "text": [
      "fora da funçao 10\n",
      "dentro da funçao 11\n",
      "fora da funçao 11\n"
     ]
    }
   ],
   "source": [
    "x = 10 # x é uma variavel global \n",
    "# podemos acessar x fora de uma funçao tambem \n",
    "print ('fora da funçao', x)\n",
    "\n",
    "def minhaFunçao ():\n",
    "    global x #\n",
    "    x = x + 1\n",
    "    print ('dentro da funçao', x)\n",
    "\n",
    "minhaFunçao()\n",
    "print ('fora da funçao', x)"
   ]
  },
  {
   "cell_type": "code",
   "execution_count": 13,
   "metadata": {},
   "outputs": [],
   "source": [
    "def minhaFunçao ():\n",
    "    '''\n",
    "        Aqui posso escrever a descriçao do que faz a minha funçao \n",
    "    '''"
   ]
  }
 ],
 "metadata": {
  "kernelspec": {
   "display_name": "Python 3",
   "language": "python",
   "name": "python3"
  },
  "language_info": {
   "codemirror_mode": {
    "name": "ipython",
    "version": 3
   },
   "file_extension": ".py",
   "mimetype": "text/x-python",
   "name": "python",
   "nbconvert_exporter": "python",
   "pygments_lexer": "ipython3",
   "version": "3.12.3"
  }
 },
 "nbformat": 4,
 "nbformat_minor": 2
}
