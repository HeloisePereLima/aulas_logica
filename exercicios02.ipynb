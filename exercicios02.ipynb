{
 "cells": [
  {
   "cell_type": "markdown",
   "metadata": {},
   "source": [
    "1- leia 2 notas de um aluno , calcule a media e imprima aprovado ou rprovado ( para se aprovado a media deve ser no minino 7 )"
   ]
  },
  {
   "cell_type": "code",
   "execution_count": 2,
   "metadata": {},
   "outputs": [
    {
     "name": "stdout",
     "output_type": "stream",
     "text": [
      "reprovado\n"
     ]
    }
   ],
   "source": [
    "nota1= float (input ('digite a primeira nota'))\n",
    "nota2= float (input ('digite a segunda nota'))\n",
    "media= (nota1 + nota2) / 2\n",
    "if media >= 7 :\n",
    "   print ('aprovado') \n",
    "else:\n",
    "    print ('reprovado')\n",
    "\n",
    "\n",
    "\n"
   ]
  },
  {
   "cell_type": "markdown",
   "metadata": {},
   "source": [
    "2- Peça dois números ao usuário e mostre qual o maior e qual o menor"
   ]
  },
  {
   "cell_type": "code",
   "execution_count": 4,
   "metadata": {},
   "outputs": [
    {
     "name": "stdout",
     "output_type": "stream",
     "text": [
      " 9.0 maior que o 6.0\n"
     ]
    }
   ],
   "source": [
    "numero1= float (input ('digite o primeiro numero'))\n",
    "numero2= float (input ('digite o segundo numero'))\n",
    "if numero1 >= numero2:\n",
    "    print (f'{numero1} maior que o {numero2}')\n",
    "else:\n",
    "    print (f' {numero2} maior que o {numero1}')"
   ]
  },
  {
   "cell_type": "markdown",
   "metadata": {},
   "source": [
    "3- Receba um inteiro e diga se é par ou ímpar."
   ]
  },
  {
   "cell_type": "code",
   "execution_count": 5,
   "metadata": {},
   "outputs": [
    {
     "name": "stdout",
     "output_type": "stream",
     "text": [
      "4.0 é par\n"
     ]
    }
   ],
   "source": [
    "numero_inteiro = int (input ('digite um numero inteiro'))\n",
    "if numero_inteiro % 2 == 0:\n",
    "    print (f'{numero_inteiro} é par')\n",
    "else:\n",
    "    print (f'{numero_inteiro} é impar')"
   ]
  },
  {
   "cell_type": "markdown",
   "metadata": {},
   "source": [
    "4 - Receba um número inteiro e diga se é positivo ou negativo"
   ]
  },
  {
   "cell_type": "code",
   "execution_count": 11,
   "metadata": {},
   "outputs": [
    {
     "name": "stdout",
     "output_type": "stream",
     "text": [
      "5 é positivo \n"
     ]
    }
   ],
   "source": [
    "numero_inteiro= int (input ('digite um numero inteiro'))\n",
    "if numero_inteiro >= 0:\n",
    "   print (f'{numero_inteiro} é positivo ') \n",
    "else:\n",
    "   print (f'{numero_inteiro} é negativo') \n"
   ]
  },
  {
   "cell_type": "markdown",
   "metadata": {},
   "source": [
    "5- Pergunte o ano de nascimento de uma pessoa e diga se ele é maior de idade"
   ]
  },
  {
   "cell_type": "code",
   "execution_count": 12,
   "metadata": {},
   "outputs": [
    {
     "name": "stdout",
     "output_type": "stream",
     "text": [
      " 19 é maior de idade\n"
     ]
    }
   ],
   "source": [
    "ano= int (input ('digite o ano de nascimento'))\n",
    "if ano >18:\n",
    "    print (f' {ano} é maior de idade')\n",
    "else:\n",
    "    print (f'{ano} é menor de idade')"
   ]
  },
  {
   "cell_type": "markdown",
   "metadata": {},
   "source": [
    "6 - Ler dois números inteiros e informar se estes são iguais ou diferentes."
   ]
  },
  {
   "cell_type": "code",
   "execution_count": null,
   "metadata": {},
   "outputs": [],
   "source": []
  }
 ],
 "metadata": {
  "kernelspec": {
   "display_name": "Python 3",
   "language": "python",
   "name": "python3"
  },
  "language_info": {
   "codemirror_mode": {
    "name": "ipython",
    "version": 3
   },
   "file_extension": ".py",
   "mimetype": "text/x-python",
   "name": "python",
   "nbconvert_exporter": "python",
   "pygments_lexer": "ipython3",
   "version": "3.12.2"
  }
 },
 "nbformat": 4,
 "nbformat_minor": 2
}
