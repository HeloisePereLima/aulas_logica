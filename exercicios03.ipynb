{
 "cells": [
  {
   "cell_type": "markdown",
   "metadata": {},
   "source": [
    "1 - Pede ao usuário para digitar um número de 1 a 7 e imprime o dia da semana correspondente."
   ]
  },
  {
   "cell_type": "code",
   "execution_count": 3,
   "metadata": {},
   "outputs": [
    {
     "name": "stdout",
     "output_type": "stream",
     "text": [
      "é quinta feira\n"
     ]
    }
   ],
   "source": [
    "nr= int (input ('digite um numero de 1 a 7'))\n",
    "match nr: \n",
    "    case 1:\n",
    "        print (f'é domingo')\n",
    "    case 2:\n",
    "        print (f'é segunda feira')\n",
    "    case 3:\n",
    "        print (f'é terça feira')\n",
    "    case 4:\n",
    "        print (f'é quarta feira')\n",
    "    case 5:\n",
    "        print (f'é quinta feira')\n",
    "    case 6:\n",
    "        print (f'é sexta feira')\n",
    "    case 7:\n",
    "        print (f'é sabado')\n",
    "if nr <1 or nr >7:\n",
    "       print ('erro')\n",
    "    \n",
    "\n",
    "\n",
    "\n",
    "\n",
    "\n",
    "\n"
   ]
  },
  {
   "cell_type": "markdown",
   "metadata": {},
   "source": [
    "2 - Pede ao usuário o ano atual e o ano de nascimento e verifique em qual faixa etária ele\n",
    "pertence considerando (abaixo de 10 é criança, de 11 a 17 adolescente, de 18 a 59 adulto,\n",
    "acima de 60 idoso)"
   ]
  },
  {
   "cell_type": "code",
   "execution_count": 2,
   "metadata": {},
   "outputs": [
    {
     "name": "stdout",
     "output_type": "stream",
     "text": [
      "é adolecente\n"
     ]
    }
   ],
   "source": [
    "data= int (input ('digite o seu ano de nascimento'))\n",
    "idade = 2024 - data\n",
    "if idade < 10:\n",
    "    print (f' é criança')\n",
    "elif idade > 10 or idade <= 17:\n",
    "        print (f'é adolecente')\n",
    "elif idade  >17 or data <=60:\n",
    "      print (f'adulto')\n",
    "else : \n",
    "      print ('idoso')\n",
    "\n",
    "\n"
   ]
  },
  {
   "cell_type": "markdown",
   "metadata": {},
   "source": [
    "3 - Pede ao usuário para digitar o nome de um mês e imprime o número de dias naquele mês."
   ]
  },
  {
   "cell_type": "code",
   "execution_count": 7,
   "metadata": {},
   "outputs": [
    {
     "name": "stdout",
     "output_type": "stream",
     "text": [
      "31\n"
     ]
    }
   ],
   "source": [
    "mes = (input ('digite um mes'))\n",
    "match mes:\n",
    "    case 'janeiro':\n",
    "          print (31) \n",
    "    case 'fevereiro':\n",
    "          print (28)\n",
    "    case 'março':\n",
    "          print (31)\n",
    "    case 'abril':\n",
    "            print (30)\n",
    "    case 'maio':\n",
    "            print (31)\n",
    "    case 'junho':\n",
    "            print (30)\n",
    "    case 'julho':\n",
    "              print (31)\n",
    "    case 'agosto':\n",
    "              print (31)\n",
    "    case 'setembro':\n",
    "              print (30)\n",
    "    case 'outubro':\n",
    "              print (31)\n",
    "    case 'novembro':\n",
    "              print (30)\n",
    "    case 'dezembro':\n",
    "              print (31)"
   ]
  },
  {
   "cell_type": "markdown",
   "metadata": {},
   "source": [
    "4 - Pede ao usuário para digitar 2 notas e calcule sua média, e considere a média acima de 7\n",
    "aprovado, entre 5 e 7, em recuperação, abaixo de 5 reprovado."
   ]
  },
  {
   "cell_type": "code",
   "execution_count": 8,
   "metadata": {},
   "outputs": [
    {
     "ename": "SyntaxError",
     "evalue": "invalid syntax (348417466.py, line 5)",
     "output_type": "error",
     "traceback": [
      "\u001b[1;36m  Cell \u001b[1;32mIn[8], line 5\u001b[1;36m\u001b[0m\n\u001b[1;33m    case nota <5 :\u001b[0m\n\u001b[1;37m              ^\u001b[0m\n\u001b[1;31mSyntaxError\u001b[0m\u001b[1;31m:\u001b[0m invalid syntax\n"
     ]
    }
   ],
   "source": [
    "nota1 = int (input ('digite a nota 1'))\n",
    "nota2 = int (input ('digite a nota 2'))\n",
    "nota = (nota1 + nota2) / 2 \n",
    "match nota :\n",
    "    case nota <5 :\n",
    "         print ('reprovado')\n",
    "    case nota >7 :\n",
    "         print ('aprovado')\n"
   ]
  }
 ],
 "metadata": {
  "kernelspec": {
   "display_name": "Python 3",
   "language": "python",
   "name": "python3"
  },
  "language_info": {
   "codemirror_mode": {
    "name": "ipython",
    "version": 3
   },
   "file_extension": ".py",
   "mimetype": "text/x-python",
   "name": "python",
   "nbconvert_exporter": "python",
   "pygments_lexer": "ipython3",
   "version": "3.12.2"
  }
 },
 "nbformat": 4,
 "nbformat_minor": 2
}
