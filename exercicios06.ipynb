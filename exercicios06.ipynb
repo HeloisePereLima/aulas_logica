{
 "cells": [
  {
   "cell_type": "markdown",
   "metadata": {},
   "source": [
    "1 - utilizando o comando for, exiba todos os numeros ímpares de 1 a 40 "
   ]
  },
  {
   "cell_type": "code",
   "execution_count": 9,
   "metadata": {},
   "outputs": [
    {
     "name": "stdout",
     "output_type": "stream",
     "text": [
      "1\n",
      "3\n",
      "5\n",
      "7\n",
      "9\n",
      "11\n",
      "13\n",
      "15\n",
      "17\n",
      "19\n",
      "21\n",
      "23\n",
      "25\n",
      "27\n",
      "29\n",
      "31\n",
      "33\n",
      "35\n",
      "37\n",
      "39\n"
     ]
    }
   ],
   "source": [
    "for x in range (1, 40):\n",
    "    if x % 2 != 0 :\n",
    "        print (x)"
   ]
  },
  {
   "cell_type": "markdown",
   "metadata": {},
   "source": [
    "02 -gere os 6 numeros do sorteio da mega sena de forma aleatoria  "
   ]
  },
  {
   "cell_type": "code",
   "execution_count": 21,
   "metadata": {},
   "outputs": [
    {
     "name": "stdout",
     "output_type": "stream",
     "text": [
      "10\n",
      "42\n",
      "54\n",
      "17\n",
      "2\n",
      "51\n"
     ]
    }
   ],
   "source": [
    "import random\n",
    "for nr in range(1, 7) :\n",
    "   nrSorteado = random.randint(1, 60)\n",
    "   print(nrSorteado)  "
   ]
  },
  {
   "cell_type": "markdown",
   "metadata": {},
   "source": [
    "03 - Receba 5 números e verifique a soma e a quantidade de todos os pares e ímpares digitados"
   ]
  },
  {
   "cell_type": "code",
   "execution_count": 9,
   "metadata": {},
   "outputs": [
    {
     "name": "stdout",
     "output_type": "stream",
     "text": [
      " a soma é 5, nr par é 0 e o numero impar é 1\n",
      " a soma é 13, nr par é 1 e o numero impar é 1\n",
      " a soma é 22, nr par é 1 e o numero impar é 2\n",
      " a soma é 28, nr par é 2 e o numero impar é 2\n",
      " a soma é 60, nr par é 3 e o numero impar é 2\n"
     ]
    }
   ],
   "source": [
    "soma = 0 \n",
    "qtdePar= 0\n",
    "qtdeImpar = 0\n",
    "\n",
    "for x in range(1, 6) :\n",
    "    nr = int (input ('digite um numero [ 0 para encerrar]'))\n",
    "    if nr % 2 == 0 :\n",
    "        qtdePar += 1 \n",
    "    if nr % 2 == 1 : \n",
    "       qtdeImpar += 1 \n",
    "    soma += nr \n",
    "    print (f' a soma é {soma}, nr par é {qtdePar} e o numero impar é {qtdeImpar}')\n",
    "\n",
    "\n",
    "    \n"
   ]
  },
  {
   "cell_type": "markdown",
   "metadata": {},
   "source": [
    "04 - Solicite os parâmetros de início, fim e passo para o laço de repetição usando a função range()\n",
    "e exiba o valor atual da variável de controle a cada iteração. range( x , y , z )"
   ]
  },
  {
   "cell_type": "code",
   "execution_count": 2,
   "metadata": {},
   "outputs": [
    {
     "name": "stdout",
     "output_type": "stream",
     "text": [
      "10\n",
      "15\n",
      "20\n",
      "25\n"
     ]
    }
   ],
   "source": [
    "x = int (input ('digite um numero'))\n",
    "y = int (input ('digite um numero'))\n",
    "z = int (input ('digite um numero'))\n",
    "for x in range (x, y, z) :\n",
    "    print (x)"
   ]
  },
  {
   "cell_type": "markdown",
   "metadata": {},
   "source": [
    "05 - Ler do teclado a idade e o sexo de 10 pessoas, calcule e imprima:\n",
    "• idade média das mulheres\n",
    "• idade média dos homens\n",
    "• idade média do grupo"
   ]
  },
  {
   "cell_type": "code",
   "execution_count": 1,
   "metadata": {},
   "outputs": [],
   "source": [
    "for x in range (1, 10) :\n",
    " (input (f' digite sua idade '))\n",
    " (input (f'digite seu sexo'))"
   ]
  }
 ],
 "metadata": {
  "kernelspec": {
   "display_name": "Python 3",
   "language": "python",
   "name": "python3"
  },
  "language_info": {
   "codemirror_mode": {
    "name": "ipython",
    "version": 3
   },
   "file_extension": ".py",
   "mimetype": "text/x-python",
   "name": "python",
   "nbconvert_exporter": "python",
   "pygments_lexer": "ipython3",
   "version": "3.12.3"
  }
 },
 "nbformat": 4,
 "nbformat_minor": 2
}
