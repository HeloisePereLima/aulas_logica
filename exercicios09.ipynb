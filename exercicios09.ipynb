{
 "cells": [
  {
   "cell_type": "markdown",
   "metadata": {},
   "source": [
    "1- Crie uma função sem parâmetros que exiba uma linha com 50 * , e uma mensagem de boas\n",
    "vindas, chame essa função por 4 vezes"
   ]
  },
  {
   "cell_type": "code",
   "execution_count": 8,
   "metadata": {},
   "outputs": [
    {
     "name": "stdout",
     "output_type": "stream",
     "text": [
      "**************************************************\n",
      "helo boas vindas\n",
      "**************************************************\n",
      "helo boas vindas\n",
      "**************************************************\n",
      "helo boas vindas\n",
      "**************************************************\n",
      "helo boas vindas\n"
     ]
    }
   ],
   "source": [
    "def saudacao():\n",
    "   print ('*' * 50 )\n",
    "   nome= input (f'digite seu nome')\n",
    "   print  (f'{nome} boas vindas')\n",
    "\n",
    "\n",
    "saudacao()\n",
    "saudacao()\n",
    "saudacao()\n",
    "saudacao()"
   ]
  },
  {
   "cell_type": "markdown",
   "metadata": {},
   "source": [
    "2- Crie uma função que contenha uma lista com as cores primárias e exiba cada cor em uma\n",
    "linha"
   ]
  },
  {
   "cell_type": "code",
   "execution_count": 14,
   "metadata": {},
   "outputs": [
    {
     "name": "stdout",
     "output_type": "stream",
     "text": [
      "azul\n",
      "vermelho\n",
      "amarelo\n"
     ]
    }
   ],
   "source": [
    "def cores():\n",
    "    listaCores = ['azul', 'vermelho', 'amarelo']\n",
    "    for cor in listaCores:\n",
    "        print(cor)\n",
    "\n",
    "cores()"
   ]
  },
  {
   "cell_type": "markdown",
   "metadata": {},
   "source": [
    "3-Crie uma função que recebe um número como parâmetro e exiba a tabuada até o 10, chame\n",
    "essa função por 3 vezes enviando parâmetros diferentes"
   ]
  },
  {
   "cell_type": "code",
   "execution_count": 10,
   "metadata": {},
   "outputs": [
    {
     "name": "stdout",
     "output_type": "stream",
     "text": [
      "3 x 0 = 0\n",
      "3 x 1 = 3\n",
      "3 x 2 = 6\n",
      "3 x 3 = 9\n",
      "3 x 4 = 12\n",
      "3 x 5 = 15\n",
      "3 x 6 = 18\n",
      "3 x 7 = 21\n",
      "3 x 8 = 24\n",
      "3 x 9 = 27\n",
      "3 x 10 = 30\n",
      "3 x 0 = 0\n",
      "3 x 1 = 3\n",
      "3 x 2 = 6\n",
      "3 x 3 = 9\n",
      "3 x 4 = 12\n",
      "3 x 5 = 15\n",
      "3 x 6 = 18\n",
      "3 x 7 = 21\n",
      "3 x 8 = 24\n",
      "3 x 9 = 27\n",
      "3 x 10 = 30\n",
      "3 x 0 = 0\n",
      "3 x 1 = 3\n",
      "3 x 2 = 6\n",
      "3 x 3 = 9\n",
      "3 x 4 = 12\n",
      "3 x 5 = 15\n",
      "3 x 6 = 18\n",
      "3 x 7 = 21\n",
      "3 x 8 = 24\n",
      "3 x 9 = 27\n",
      "3 x 10 = 30\n"
     ]
    }
   ],
   "source": [
    "def tabuada(n) :\n",
    "    for x in range (11) :\n",
    "        print (f'{n} x {x} = {n*x}')\n",
    "\n",
    "tabuada(3)\n",
    "tabuada(3)\n",
    "tabuada(3)\n",
    "\n"
   ]
  },
  {
   "cell_type": "markdown",
   "metadata": {},
   "source": [
    "04 -Crie uma função que receba 2 numeros e o operador matematico para realizar a operação "
   ]
  },
  {
   "cell_type": "code",
   "execution_count": 16,
   "metadata": {},
   "outputs": [
    {
     "name": "stdout",
     "output_type": "stream",
     "text": [
      "72\n"
     ]
    }
   ],
   "source": [
    "def calculadora(n1, n2, op ):\n",
    "    if op == '+' :\n",
    "        res = n1 + n2 \n",
    "    elif op == '-' :\n",
    "        res = n1 - n2 \n",
    "    elif op == '*' :\n",
    "        res = n1 * n2 \n",
    "    elif op == '/' :\n",
    "        res = n1 / n2 \n",
    "    elif op == '**' :\n",
    "        res = n1 ** n2 \n",
    "    print (res)\n",
    "\n",
    "calculadora(8, 9,'*')"
   ]
  },
  {
   "cell_type": "markdown",
   "metadata": {},
   "source": [
    "05"
   ]
  },
  {
   "cell_type": "code",
   "execution_count": 20,
   "metadata": {},
   "outputs": [
    {
     "name": "stdout",
     "output_type": "stream",
     "text": [
      "17081\n"
     ]
    }
   ],
   "source": [
    "import random\n",
    "\n",
    "def senhaAleatoria (tamanho):\n",
    "    listaCaracteres = '17052008'\n",
    "    senha = '' \n",
    "    for i in range (tamanho):\n",
    "        senha = senha + random.choice (listaCaracteres)\n",
    "\n",
    "    return (senha) \n",
    "senhaTemp = senhaAleatoria(5)\n",
    "print (senhaTemp) "
   ]
  }
 ],
 "metadata": {
  "kernelspec": {
   "display_name": "Python 3",
   "language": "python",
   "name": "python3"
  },
  "language_info": {
   "codemirror_mode": {
    "name": "ipython",
    "version": 3
   },
   "file_extension": ".py",
   "mimetype": "text/x-python",
   "name": "python",
   "nbconvert_exporter": "python",
   "pygments_lexer": "ipython3",
   "version": "3.12.3"
  }
 },
 "nbformat": 4,
 "nbformat_minor": 2
}
