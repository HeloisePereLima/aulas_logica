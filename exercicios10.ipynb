{
 "cells": [
  {
   "cell_type": "markdown",
   "metadata": {},
   "source": [
    "1 - Escreva uma função que utilize uma variável global para contar o número de vezes que foi chamada. A função deve retornar o número atual de chamadas."
   ]
  },
  {
   "cell_type": "code",
   "execution_count": 8,
   "metadata": {},
   "outputs": [
    {
     "name": "stdout",
     "output_type": "stream",
     "text": [
      "dentro da funçao 1\n",
      "dentro da funçao 2\n",
      "dentro da funçao 3\n"
     ]
    }
   ],
   "source": [
    "x = 0\n",
    "def funçao() :\n",
    "    global x  \n",
    "    x = x + 1 \n",
    "    print('dentro da funçao', x)\n",
    "\n",
    "funçao()\n",
    "funçao()\n",
    "funçao()"
   ]
  },
  {
   "cell_type": "markdown",
   "metadata": {},
   "source": [
    "2- Crie um algoritmo que receba em variável global o valor atual do dólar e do euro, crie uma\n",
    "função que receba o valor a ser convertido e imprima a conversão em dólar e em euro"
   ]
  },
  {
   "cell_type": "code",
   "execution_count": 23,
   "metadata": {},
   "outputs": [
    {
     "name": "stdout",
     "output_type": "stream",
     "text": [
      "o valor convertido para euro é 9.17\n",
      "o valor convertido para dolar é 9.75\n"
     ]
    }
   ],
   "source": [
    "E= 5.45\n",
    "D= 5.13\n",
    "def funçao(valor):\n",
    "    valor_euro = valor / E\n",
    "    valor_dolar = valor / D\n",
    "    print (f'o valor convertido para euro é {valor_euro:.2f}')\n",
    "    print (f'o valor convertido para dolar é {valor_dolar:.2f}')\n",
    "\n",
    "funçao(50)"
   ]
  },
  {
   "cell_type": "markdown",
   "metadata": {},
   "source": [
    "3 - Escreva uma função que recebe um nome e o adicione a uma lista de nomes global. Em\n",
    "seguida, escreva outra função que remova um elemento dessa lista global recebendo o nome."
   ]
  },
  {
   "cell_type": "code",
   "execution_count": 4,
   "metadata": {},
   "outputs": [
    {
     "name": "stdout",
     "output_type": "stream",
     "text": [
      "['livia', 'bia', 'rodrigo']\n",
      "['bia', 'rodrigo']\n"
     ]
    }
   ],
   "source": [
    "listaNomes = ['livia', 'bia']\n",
    "\n",
    "def adicionar (nome):\n",
    "    global listaNomes \n",
    "    listaNomes.append (nome)\n",
    "    print(listaNomes)\n",
    "\n",
    "\n",
    "def remover(nome):\n",
    "    global listaNomes\n",
    "    listaNomes.remove(nome)\n",
    "    print (listaNomes)\n",
    "\n",
    "\n",
    "\n",
    "adicionar('rodrigo')\n",
    "\n",
    "remover('livia')"
   ]
  },
  {
   "cell_type": "markdown",
   "metadata": {},
   "source": [
    "04 - Crie um caixa eletrônico: Crie uma variável global para armazenar o saldo, crie função para\n",
    "depositar e sacar, recebendo o valor como parâmetro, crie outra função para consultar o\n",
    "saldo. Crie um menu interativo com while para navegar entre as funções:"
   ]
  },
  {
   "cell_type": "code",
   "execution_count": 13,
   "metadata": {},
   "outputs": [
    {
     "name": "stdout",
     "output_type": "stream",
     "text": [
      "menu\n",
      "[1] depositar\n",
      "[2] sacar\n",
      "[3] consultar\n",
      "[4] sair\n"
     ]
    }
   ],
   "source": [
    "saldo = 0\n",
    "\n",
    "def depositar (valor):\n",
    "    global saldo \n",
    "    saldo = saldo + valor \n",
    "    consultarSaldo\n",
    "def sacar(valor) :\n",
    "    global saldo \n",
    "    saldo = saldo - saldo \n",
    "\n",
    "def consultarSaldo(valor):\n",
    "    print (f'Seu saldo R$ {saldo:.2f}')\n",
    "\n",
    "while True:\n",
    "    print('menu')\n",
    "    print('[1] depositar')\n",
    "    print('[2] sacar')\n",
    "    print('[3] consultar')\n",
    "    print('[4] sair')\n",
    "    opcao = input ('digite a opçao do menu')\n",
    "    if opcao == '1' :\n",
    "        valor = float (input ('digite o valor para depositar:'))\n",
    "        depositar (valor)\n",
    "    elif opcao == '2':\n",
    "        valor = float (input ('digite o valor para sacar:'))\n",
    "        sacar (valor)\n",
    "    elif opcao == '3':\n",
    "        consultarSaldo ()\n",
    "    else : \n",
    "        break "
   ]
  },
  {
   "cell_type": "markdown",
   "metadata": {},
   "source": [
    "05 - Desenhando um retângulo. Crie um algoritmo que receba em variável global um caractere\n",
    "especial. Em uma função receba 2 parâmetros altura e largura e desenhe de acordo com a\n",
    "largura, a quantidade de vezes que irá repetir o caractere, e de acordo com a altura, o número\n",
    "de linhas que será desenhado. Ex: Caractere +, largura 20 altura 5:"
   ]
  },
  {
   "cell_type": "code",
   "execution_count": 17,
   "metadata": {},
   "outputs": [
    {
     "name": "stdout",
     "output_type": "stream",
     "text": [
      "++++++++++++++++++++++++++++++\n",
      "++++++++++++++++++++++++++++++\n",
      "++++++++++++++++++++++++++++++\n",
      "++++++++++++++++++++++++++++++\n",
      "++++++++++++++++++++++++++++++\n"
     ]
    }
   ],
   "source": [
    "caractere = '+'\n",
    "def desenharForma (l, a) :\n",
    "    global caractere\n",
    "    for i in range(a):\n",
    "        print (caractere * l)\n",
    "\n",
    "desenharForma (30,5)\n"
   ]
  },
  {
   "cell_type": "markdown",
   "metadata": {},
   "source": [
    "06 - No exercício anterior, inclua uma docstring e os annotations na função para explicar para o\n",
    "usuário, como utiliza-la"
   ]
  }
 ],
 "metadata": {
  "kernelspec": {
   "display_name": "Python 3",
   "language": "python",
   "name": "python3"
  },
  "language_info": {
   "codemirror_mode": {
    "name": "ipython",
    "version": 3
   },
   "file_extension": ".py",
   "mimetype": "text/x-python",
   "name": "python",
   "nbconvert_exporter": "python",
   "pygments_lexer": "ipython3",
   "version": "3.12.3"
  }
 },
 "nbformat": 4,
 "nbformat_minor": 2
}
